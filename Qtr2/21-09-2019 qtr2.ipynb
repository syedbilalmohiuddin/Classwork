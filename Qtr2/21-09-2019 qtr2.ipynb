{
 "cells": [
  {
   "cell_type": "code",
   "execution_count": 96,
   "metadata": {},
   "outputs": [
    {
     "name": "stdout",
     "output_type": "stream",
     "text": [
      "(2, 3)\n",
      "1 2 4\n"
     ]
    }
   ],
   "source": [
    "\n",
    "%config IPCompleter.greedy=True\n",
    "##Numpy\n",
    "##Arrays and Vectorized Computation\n",
    "\n",
    "import numpy as np\n",
    "'''\n",
    "a = np.array([1, 2, 3])   # Create a rank 1 array\n",
    "print(type(a))            # Prints \"<class 'numpy.ndarray'>\"\n",
    "print(a.shape)            # Prints \"(3,)\"\n",
    "print(a[0], a[1], a[2])   # Prints \"1 2 3\"\n",
    "a[0] = 5                  # Change an element of the array\n",
    "print(a)                  # Prints \"[5, 2, 3]\"\n",
    "'''\n",
    "b = np.array([[1,2,3],[4,5,6]])    # Create a rank 2 array\n",
    "print(b.shape)                     # Prints \"(2, 3)\"\n",
    "print(b[0, 0], b[0, 1], b[1, 0]) \n",
    "\n",
    "\n"
   ]
  },
  {
   "cell_type": "code",
   "execution_count": 95,
   "metadata": {},
   "outputs": [
    {
     "name": "stdout",
     "output_type": "stream",
     "text": [
      "[[[0.99069807 0.37777168]\n",
      "  [0.1880609  0.17843212]\n",
      "  [0.76686475 0.93013913]\n",
      "  [0.80153462 0.52148891]]\n",
      "\n",
      " [[0.75559816 0.55129021]\n",
      "  [0.22315163 0.66837049]\n",
      "  [0.22156375 0.79749612]\n",
      "  [0.96838632 0.33512004]]]\n"
     ]
    },
    {
     "data": {
      "text/plain": [
       "array([[-1.34474313,  1.52169413],\n",
       "       [-0.24000739,  1.12692343]])"
      ]
     },
     "execution_count": 95,
     "metadata": {},
     "output_type": "execute_result"
    }
   ],
   "source": [
    "import numpy as np\n",
    "\n",
    "'''\n",
    "a = np.zeros((2,2))   # Create an array of all zeros\n",
    "print(a)              # Prints \"[[ 0.  0.]\n",
    "                      #          [ 0.  0.]]\"\n",
    "\n",
    "b = np.ones((1,2))    # Create an array of all ones\n",
    "print(b)              # Prints \"[[ 1.  1.]]\"\n",
    "\n",
    "c = np.full((2,2), 7)  # Create a constant array\n",
    "print(c)               # Prints \"[[ 7.  7.]\n",
    "                       #          [ 7.  7.]]\"\n",
    "\n",
    "d = np.eye(3)         # Create a 2x2 identity matrix\n",
    "print(d)              # Prints \"[[ 1.  0.]\n",
    "                      #          [ 0.  1.]]\"\n",
    "                      \n",
    " #shape(a,b,c)\n",
    " a=matrices\n",
    " b=Rows\n",
    " c=Columns\n",
    "        \n",
    "'''\n",
    "\n",
    "e = np.random.random((2,4,2))  # Create an array filled with random values\n",
    "print(e)\n",
    "f=np.random.randn(2,2)\n",
    "f"
   ]
  },
  {
   "cell_type": "code",
   "execution_count": 72,
   "metadata": {},
   "outputs": [
    {
     "name": "stdout",
     "output_type": "stream",
     "text": [
      "(1, 2, 3)\n",
      "3\n"
     ]
    },
    {
     "data": {
      "text/plain": [
       "array([[[ 0,  1,  2,  3],\n",
       "        [ 4,  5,  6,  7],\n",
       "        [ 8,  9, 10, 11],\n",
       "        [12, 13, 14, 15]],\n",
       "\n",
       "       [[16, 17, 18, 19],\n",
       "        [20, 21, 22, 23],\n",
       "        [24, 25, 26, 27],\n",
       "        [28, 29, 30, 31]],\n",
       "\n",
       "       [[32, 33, 34, 35],\n",
       "        [36, 37, 38, 39],\n",
       "        [40, 41, 42, 43],\n",
       "        [44, 45, 46, 47]],\n",
       "\n",
       "       [[48, 49, 50, 51],\n",
       "        [52, 53, 54, 55],\n",
       "        [56, 57, 58, 59],\n",
       "        [60, 61, 62, 63]]])"
      ]
     },
     "execution_count": 72,
     "metadata": {},
     "output_type": "execute_result"
    }
   ],
   "source": [
    "import numpy as np\n",
    "a=np.array([[[1,2,3],[4,5,6]]])\n",
    "b=a*2\n",
    "print(b.shape)\n",
    "print(b.ndim)\n",
    "h=np.arange(64).reshape(4,4,4)\n",
    "h"
   ]
  },
  {
   "cell_type": "code",
   "execution_count": 89,
   "metadata": {},
   "outputs": [
    {
     "name": "stdout",
     "output_type": "stream",
     "text": [
      "[[[0.86224325 0.75488958]\n",
      "  [0.21835198 0.20540781]\n",
      "  [0.74050175 0.41398403]\n",
      "  [0.34414269 0.5413198 ]\n",
      "  [0.97128217 0.32132918]]\n",
      "\n",
      " [[0.29065938 0.6764617 ]\n",
      "  [0.83926267 0.88564942]\n",
      "  [0.37812595 0.89693214]\n",
      "  [0.56689962 0.79775682]\n",
      "  [0.28383414 0.45053692]]\n",
      "\n",
      " [[0.0572741  0.55432004]\n",
      "  [0.71812701 0.19412302]\n",
      "  [0.96901469 0.62753769]\n",
      "  [0.52446698 0.13183157]\n",
      "  [0.22557106 0.4110759 ]]]\n",
      "(3, 5, 2)\n",
      "(3, 5, 2)\n"
     ]
    }
   ],
   "source": [
    "'''\n",
    "#shape(a,b,c)\n",
    " a=matrices\n",
    " b=Rows\n",
    " c=Columns\n",
    "'''\n",
    "\n",
    "k=np.arange(30).reshape(3,5,2)\n",
    "#print(k)\n",
    "k.ndim\n",
    "\n",
    "#k+k\n",
    "j=np.random.random((3,5,2))\n",
    "print(j)\n",
    "j*k\n",
    "print(j.shape)\n",
    "print(k.shape)"
   ]
  },
  {
   "cell_type": "code",
   "execution_count": 105,
   "metadata": {},
   "outputs": [
    {
     "name": "stdout",
     "output_type": "stream",
     "text": [
      "[[[1 2 3]\n",
      "  [4 5 6]]]\n"
     ]
    },
    {
     "data": {
      "text/plain": [
       "array([[0., 0., 0., 0.],\n",
       "       [0., 0., 0., 0.],\n",
       "       [0., 0., 0., 0.]])"
      ]
     },
     "execution_count": 105,
     "metadata": {},
     "output_type": "execute_result"
    }
   ],
   "source": [
    "\n",
    "%config IPCompleter.greedy=True\n",
    "a=np.array([[[1,2,3],[4,5,6]]])\n",
    "\n",
    "print(a)\n",
    "\n",
    "\n",
    "np.zeros((3,4))"
   ]
  },
  {
   "cell_type": "code",
   "execution_count": 108,
   "metadata": {},
   "outputs": [
    {
     "data": {
      "text/plain": [
       "array([[5., 5.],\n",
       "       [5., 5.]])"
      ]
     },
     "execution_count": 108,
     "metadata": {},
     "output_type": "execute_result"
    }
   ],
   "source": [
    "np.empty(6)\n",
    "np.ones((2,2))*5\n"
   ]
  },
  {
   "cell_type": "code",
   "execution_count": null,
   "metadata": {},
   "outputs": [],
   "source": []
  }
 ],
 "metadata": {
  "kernelspec": {
   "display_name": "Python 3",
   "language": "python",
   "name": "python3"
  },
  "language_info": {
   "codemirror_mode": {
    "name": "ipython",
    "version": 3
   },
   "file_extension": ".py",
   "mimetype": "text/x-python",
   "name": "python",
   "nbconvert_exporter": "python",
   "pygments_lexer": "ipython3",
   "version": "3.7.3"
  }
 },
 "nbformat": 4,
 "nbformat_minor": 2
}
